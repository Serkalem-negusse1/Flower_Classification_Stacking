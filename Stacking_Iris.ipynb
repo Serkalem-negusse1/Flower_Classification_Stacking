{
 "cells": [
  {
   "cell_type": "markdown",
   "id": "4c8ecc85",
   "metadata": {},
   "source": [
    "# Stacking Classifier Project: Flower Classification\n",
    "\n",
    "## Project Overview\n",
    "This project demonstrates the power of **stacking ensemble methods** by combining multiple classifiers (Logistic Regression, SVM, Random Forest, k-NN) into a meta-model that outperforms individual base models. We use the classic Iris dataset for this classification task.\n",
    "\n",
    "Key Steps:\n",
    "1. Data Loading and Exploration\n",
    "2. Base Model Training\n",
    "3. Stacking Implementation\n",
    "4. Performance Comparison"
   ]
  },
  {
   "cell_type": "markdown",
   "id": "2906dd7f",
   "metadata": {},
   "source": [
    "## 1. Import Libraries"
   ]
  },
  {
   "cell_type": "code",
   "execution_count": null,
   "id": "d3118e97",
   "metadata": {
    "vscode": {
     "languageId": "plaintext"
    }
   },
   "outputs": [],
   "source": [
    "import numpy as np\n",
    "import pandas as pd\n",
    "import matplotlib.pyplot as plt\n",
    "import seaborn as sns\n",
    "from sklearn.datasets import load_iris\n",
    "from sklearn.model_selection import train_test_split\n",
    "from sklearn.preprocessing import StandardScaler\n",
    "from sklearn.linear_model import LogisticRegression\n",
    "from sklearn.svm import SVC\n",
    "from sklearn.ensemble import RandomForestClassifier, StackingClassifier\n",
    "from sklearn.neighbors import KNeighborsClassifier\n",
    "from sklearn.metrics import accuracy_score, classification_report, confusion_matrix\n",
    "from sklearn.decomposition import PCA\n",
    "\n",
    "# Set style for plots\n",
    "sns.set_style('whitegrid')\n",
    "plt.rcParams['figure.figsize'] = (10, 6)"
   ]
  },
  {
   "cell_type": "code",
   "execution_count": null,
   "id": "b0be6bd2",
   "metadata": {
    "vscode": {
     "languageId": "plaintext"
    }
   },
   "outputs": [],
   "source": []
  }
 ],
 "metadata": {
  "language_info": {
   "name": "python"
  }
 },
 "nbformat": 4,
 "nbformat_minor": 5
}
